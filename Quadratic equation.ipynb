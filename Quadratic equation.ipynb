{
 "cells": [
  {
   "cell_type": "code",
   "execution_count": null,
   "metadata": {},
   "outputs": [],
   "source": [
    "a = int(input())\n",
    "b = int(input())\n",
    "c = int(input())\n",
    "if a == 0:\n",
    "    if b == 0:\n",
    "        if c == 0:\n",
    "            print (\"x = любое число\")\n",
    "        else:\n",
    "            print (\"нет решений\")\n",
    "    else:\n",
    "        x1 = -c/b\n",
    "        print(x1)\n",
    "else:\n",
    "    D = b*b - 4*a*c\n",
    "    if D >= 0:\n",
    "        D = D ** 0.5\n",
    "        x1 = (-b - D)/(2*a)\n",
    "        x2 = (-b + D)/(2*a)\n",
    "        print(\"два решения:\", x1, x2)\n",
    "    else:\n",
    "        if D == 0:\n",
    "            x1 = -b/(2*a)\n",
    "            print(\"одно решение:\", x1)\n",
    "        else:\n",
    "            print(\"нет решений\")"
   ]
  }
 ],
 "metadata": {
  "kernelspec": {
   "display_name": "Python 3",
   "language": "python",
   "name": "python3"
  },
  "language_info": {
   "codemirror_mode": {
    "name": "ipython",
    "version": 3
   },
   "file_extension": ".py",
   "mimetype": "text/x-python",
   "name": "python",
   "nbconvert_exporter": "python",
   "pygments_lexer": "ipython3",
   "version": "3.6.5"
  }
 },
 "nbformat": 4,
 "nbformat_minor": 2
}
