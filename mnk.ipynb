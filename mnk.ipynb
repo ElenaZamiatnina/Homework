{
 "cells": [
  {
   "cell_type": "code",
   "execution_count": 6,
   "metadata": {},
   "outputs": [
    {
     "name": "stdout",
     "output_type": "stream",
     "text": [
      "[ 1.00153756e+00  4.20907216e-03  1.00007994e+00 -2.94646700e-03\n",
      "  2.00311913e+00  3.00400921e+00  3.99985896e+00  1.99516098e+00]\n"
     ]
    }
   ],
   "source": [
    "import numpy as np\n",
    "\n",
    "text_file = open(\"train_set.txt\", \"r\")\n",
    "x = []\n",
    "y = []\n",
    "for inp in text_file:\n",
    "    z = list(map(float, inp.split()))\n",
    "    x.append(z[:-1] + [1])\n",
    "    y.append(z[-1])\n",
    "\n",
    "x = np.array(x)\n",
    "y = np.array(y)\n",
    "\n",
    "a = [[np.dot(x[:, i], x[:, j]) for i in range(x.shape[1])] for j in range(x.shape[1])]\n",
    "b = [np.dot(x[:, i], y) for i in range(x.shape[1])]\n",
    "\n",
    "print(np.linalg.solve(a, b))\n",
    "\n",
    "text_file.close()"
   ]
  },
  {
   "cell_type": "code",
   "execution_count": null,
   "metadata": {},
   "outputs": [],
   "source": []
  }
 ],
 "metadata": {
  "kernelspec": {
   "display_name": "Python 3",
   "language": "python",
   "name": "python3"
  },
  "language_info": {
   "codemirror_mode": {
    "name": "ipython",
    "version": 3
   },
   "file_extension": ".py",
   "mimetype": "text/x-python",
   "name": "python",
   "nbconvert_exporter": "python",
   "pygments_lexer": "ipython3",
   "version": "3.6.5"
  }
 },
 "nbformat": 4,
 "nbformat_minor": 2
}
